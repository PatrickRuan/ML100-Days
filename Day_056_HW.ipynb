{
 "cells": [
  {
   "cell_type": "markdown",
   "metadata": {
    "collapsed": true
   },
   "source": [
    "# 作業\n",
    "* 試著模擬出 5 群高斯分布的資料, 並以此觀察 K-mean 與輪廓分析的結果  \n",
    "\n",
    "\n",
    "https://kknews.cc/zh-tw/other/nernge5.html\n",
    "    \n",
    "    2、輪廓圖定量分析聚類質量\n",
    "輪廓分析(silhouette analysis)，使用圖形工具來度量簇中樣本的聚集程度，除k-means之外也適用於其他的聚類算法。通過三個步驟可以計算出當個樣本的輪廓係數(silhouette coefficient)：\n",
    "\n",
    "1、將樣本x與簇內的其他點之間的平均距離作為簇內的內聚度a\n",
    "\n",
    "2、將樣本x與最近簇中所有點之間的平均距離看作是與最近簇的分離度b\n",
    "\n",
    "3、將簇的分離度與簇內聚度之差除以二者中比較大的數得到輪廓係數，計算公式如下\n",
    "\n",
    "![公式](p1.jpg)\n",
    "\n",
    "\n",
    "輪廓係數的取值在-1到1之間。當簇內聚度與分度離相等時，輪廓係數為0。當b>>a時，輪廓係數近似取到1，此時模型的性能最佳。\n",
    "![code](p2_code.jpg)\n",
    "\n",
    "\n",
    "\n",
    "通過輪廓圖，我們能夠看出樣本的簇數以及判斷樣本中是否包含異常值。為了評價聚類模型的性能，可以通過評價輪廓係數，也就是圖中的紅色虛線進行評價。\n",
    "![輪廓](p3.jpg)\n",
    "\n",
    " \n",
    "\n",
    "\n",
    "原文網址：https://kknews.cc/zh-tw/other/nernge5.html"
   ]
  },
  {
   "cell_type": "code",
   "execution_count": 2,
   "metadata": {},
   "outputs": [],
   "source": [
    "# 載入套件\n",
    "import numpy as np\n",
    "import matplotlib\n",
    "import matplotlib.pyplot as plt\n",
    "import matplotlib.cm as cm\n",
    "from sklearn.datasets import make_blobs\n",
    "from sklearn.cluster import KMeans\n",
    "from sklearn import datasets\n",
    "from sklearn.metrics import silhouette_samples, silhouette_score\n",
    "\n",
    "np.random.seed(5)\n",
    "\n",
    "%matplotlib inline"
   ]
  },
  {
   "cell_type": "code",
   "execution_count": 3,
   "metadata": {},
   "outputs": [],
   "source": [
    "# 生成 5 群資料\n",
    "X, y = make_blobs(n_samples=500,\n",
    "                  n_features=2,\n",
    "                  centers=5,\n",
    "                  cluster_std=1,\n",
    "                  center_box=(-10.0, 10.0),\n",
    "                  shuffle=True,\n",
    "                  random_state=123) "
   ]
  },
  {
   "cell_type": "code",
   "execution_count": 4,
   "metadata": {},
   "outputs": [],
   "source": [
    "# 設定需要計算的 K 值集合\n",
    "cls= [4,5,6]"
   ]
  },
  {
   "cell_type": "code",
   "execution_count": 35,
   "metadata": {},
   "outputs": [
    {
     "data": {
      "image/png": "[encoded data removed]",
      "text/plain": [
       "<Figure size 432x288 with 1 Axes>"
      ]
     },
     "metadata": {
      "needs_background": "light"
     },
     "output_type": "display_data"
    },
    {
     "data": {
      "image/png": "[encoded data removed]",
      "text/plain": [
       "<Figure size 432x288 with 1 Axes>"
      ]
     },
     "metadata": {
      "needs_background": "light"
     },
     "output_type": "display_data"
    },
    {
     "data": {
      "image/png": "[encoded data removed]",
      "text/plain": [
       "<Figure size 432x288 with 1 Axes>"
      ]
     },
     "metadata": {
      "needs_background": "light"
     },
     "output_type": "display_data"
    }
   ],
   "source": [
    "# 計算並繪製輪廓分析的結果\n",
    "\n",
    "for n in cls:\n",
    "    '''\n",
    "    fig, (ax1, ax2) = plt.subplots(1, 2, figsize=(8, 6))\n",
    "    ax1.set_xlim([-1, 1])\n",
    "    ax1.set_ylim([0, len(X) + (n + 1) * 10])\n",
    "    print(len(X) + (n + 1) * 10)\n",
    "    '''\n",
    "    model = KMeans(n_clusters=n, n_init=1,random_state=0)\n",
    "    y_km = model.fit_predict(X)\n",
    "    \n",
    "    # copy from internet\n",
    "    cluster_labels = np.unique(y_km)\n",
    "    n_clusters=cluster_labels.shape[0]\n",
    "    silhouette_vals = silhouette_samples(X, y_km, metric ='euclidean')\n",
    "    y_ax_lower=0\n",
    "    y_ax_upper =0\n",
    "    yticks=[]\n",
    "    for i,c in enumerate(cluster_labels):\n",
    "        c_silhouette_vals = silhouette_vals[y_km==c]\n",
    "        c_silhouette_vals.sort()\n",
    "        y_ax_upper +=len(c_silhouette_vals)\n",
    "        color = cm.jet(i/n_clusters)\n",
    "        plt.barh(range(y_ax_lower, y_ax_upper),c_silhouette_vals,\n",
    "                height=1.0, edgecolor='none', color=color)\n",
    "        yticks.append((y_ax_lower+y_ax_upper)/2)\n",
    "        y_ax_lower += len(c_silhouette_vals)\n",
    "    silhouette_avg = np.mean(silhouette_vals)\n",
    "    plt.axvline(silhouette_avg,color='red',linestyle='--')\n",
    "    plt.yticks(yticks, cluster_labels+1)\n",
    "    plt.ylabel('cluster')\n",
    "    plt.xlabel('silhouette')\n",
    "    plt.show()\n",
    "        \n",
    "    \n"
   ]
  },
  {
   "cell_type": "code",
   "execution_count": null,
   "metadata": {
    "collapsed": true
   },
   "outputs": [],
   "source": []
  }
 ],
 "metadata": {
  "kernelspec": {
   "display_name": "Python 3",
   "language": "python",
   "name": "python3"
  },
  "language_info": {
   "codemirror_mode": {
    "name": "ipython",
    "version": 3
   },
   "file_extension": ".py",
   "mimetype": "text/x-python",
   "name": "python",
   "nbconvert_exporter": "python",
   "pygments_lexer": "ipython3",
   "version": "3.6.7"
  }
 },
 "nbformat": 4,
 "nbformat_minor": 1
}
