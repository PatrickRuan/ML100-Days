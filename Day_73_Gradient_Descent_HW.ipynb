{
 "cells": [
  {
   "cell_type": "markdown",
   "metadata": {},
   "source": [
    "# Find the local minima of the function y=(x+5)² starting from the point x=3"
   ]
  },
  {
   "cell_type": "markdown",
   "metadata": {},
   "source": [
    "\n",
    "Step 1 : Initialize x =3. Then, find the gradient of the function, dy/dx = 2*(x+5).\n",
    "\n",
    "Step 2 : Move in the direction of the negative of the gradient. We use a learning rate. Let us assume the learning rate → 0.01\n",
    "\n",
    "Step 3 : Let’s perform 2 iterations of gradient descent\n",
    "\n",
    "Step 4 : We can observe that the X value is slowly decreasing and should converge to -5 (the local minima). However, how many iterations should we perform?"
   ]
  },
  {
   "cell_type": "markdown",
   "metadata": {},
   "source": [
    "# 作業:\n",
    "    請嘗試使用不同的組合驗證 learning rate 對所需 iteration 的影響\n",
    "    lr = [0.1, 0.0001]\n",
    "    主要驗證 Lr 對於grandient 收斂的速度\n",
    "    \n",
    "$ w = w - \\eta \\times \\nabla w $"
   ]
  },
  {
   "cell_type": "code",
   "execution_count": 5,
   "metadata": {},
   "outputs": [
    {
     "data": {
      "text/plain": [
       "[<matplotlib.lines.Line2D at 0x19af2619cc0>]"
      ]
     },
     "execution_count": 5,
     "metadata": {},
     "output_type": "execute_result"
    },
    {
     "data": {
      "image/png": "[encoded data removed]",
      "text/plain": [
       "<Figure size 432x288 with 1 Axes>"
      ]
     },
     "metadata": {
      "needs_background": "light"
     },
     "output_type": "display_data"
    }
   ],
   "source": [
    "import matplotlib.pyplot as plt\n",
    "%matplotlib inline\n",
    "lr = 0.1\n",
    "cur_x = 3 # The algorithm starts at x=3\n",
    "precision = 0.000001 #This tells us when to stop the algorithm\n",
    "max_iters = 10000 # maximum number of iterations\n",
    "#df = lambda x: 2*(x+5) #Gradient of our function \n",
    "def df(x):\n",
    "    y=2*(x+5)\n",
    "    return(y)\n",
    "record =[]\n",
    "x_axis=[]\n",
    "cur_precision = 10\n",
    "lr = 0.1\n",
    "iters =0\n",
    "while cur_precision > precision and iters < 10000:\n",
    "    previousX = cur_x\n",
    "    cur_x = cur_x- lr*df(previousX)   # parameter w\n",
    "    cur_precision = abs(previousX-cur_x)\n",
    "    iters +=1\n",
    "    x_axis.append(iters)\n",
    "    record.append(cur_x)\n",
    "    \n",
    "plt.plot(x_axis, record)    \n"
   ]
  },
  {
   "cell_type": "code",
   "execution_count": 21,
   "metadata": {},
   "outputs": [
    {
     "data": {
      "text/plain": [
       "[<matplotlib.lines.Line2D at 0x19af3b07160>]"
      ]
     },
     "execution_count": 21,
     "metadata": {},
     "output_type": "execute_result"
    },
    {
     "data": {
      "image/png": "[encoded data removed]",
      "text/plain": [
       "<Figure size 432x288 with 1 Axes>"
      ]
     },
     "metadata": {
      "needs_background": "light"
     },
     "output_type": "display_data"
    }
   ],
   "source": [
    "import matplotlib.pyplot as plt\n",
    "%matplotlib inline\n",
    "lr = 0\n",
    "cur_x = 3 # The algorithm starts at x=3\n",
    "precision = 0.000001 #This tells us when to stop the algorithm\n",
    "max_iters = 10000 # maximum number of iterations\n",
    "#df = lambda x: 2*(x+5) #Gradient of our function \n",
    "def df(x):\n",
    "    y=2*(x+5)\n",
    "    return(y)\n",
    "record =[]\n",
    "x_axis=[]\n",
    "cur_precision = 10\n",
    "lr = 0.0001\n",
    "iters =0\n",
    "\n",
    "\n",
    "while cur_precision > precision and iters < 10000:\n",
    "   \n",
    "    previousX = cur_x\n",
    "    cur_x = cur_x- lr*df(previousX)   # parameter w\n",
    "    cur_precision = abs(previousX-cur_x)\n",
    "    iters +=1\n",
    "    x_axis.append(iters)\n",
    "    record.append(cur_x)\n",
    "    \n",
    "plt.plot(x_axis, record)    \n",
    "\n",
    "\n"
   ]
  }
 ],
 "metadata": {
  "kernelspec": {
   "display_name": "Python 3",
   "language": "python",
   "name": "python3"
  },
  "language_info": {
   "codemirror_mode": {
    "name": "ipython",
    "version": 3
   },
   "file_extension": ".py",
   "mimetype": "text/x-python",
   "name": "python",
   "nbconvert_exporter": "python",
   "pygments_lexer": "ipython3",
   "version": "3.6.7"
  }
 },
 "nbformat": 4,
 "nbformat_minor": 2
}
