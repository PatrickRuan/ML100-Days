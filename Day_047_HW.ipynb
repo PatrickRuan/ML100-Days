{
 "cells": [
  {
   "cell_type": "markdown",
   "metadata": {},
   "source": [
    "# 作業\n",
    "請使用不同的資料集，並使用 hyper-parameter search 的方式，看能不能找出最佳的超參數組合"
   ]
  },
  {
   "cell_type": "code",
   "execution_count": 1,
   "metadata": {},
   "outputs": [],
   "source": [
    "from sklearn import datasets, metrics"
   ]
  },
  {
   "cell_type": "code",
   "execution_count": 2,
   "metadata": {},
   "outputs": [
    {
     "data": {
      "text/plain": [
       "array([24. , 21.6, 34.7, 33.4, 36.2])"
      ]
     },
     "execution_count": 2,
     "metadata": {},
     "output_type": "execute_result"
    }
   ],
   "source": [
    "digits=datasets.load_boston()\n",
    "digits.target[:5]  # array([24. , 21.6, 34.7, 33.4, 36.2]) <== We need regression "
   ]
  },
  {
   "cell_type": "code",
   "execution_count": 3,
   "metadata": {},
   "outputs": [],
   "source": [
    "from sklearn.ensemble import GradientBoostingRegressor\n",
    "from sklearn.model_selection import train_test_split, KFold, GridSearchCV"
   ]
  },
  {
   "cell_type": "code",
   "execution_count": 4,
   "metadata": {},
   "outputs": [],
   "source": [
    "x_train, x_test, y_train, y_test = train_test_split(digits.data, digits.target, test_size=0.25, random_state=0)"
   ]
  },
  {
   "cell_type": "code",
   "execution_count": 5,
   "metadata": {},
   "outputs": [
    {
     "data": {
      "text/plain": [
       "GradientBoostingRegressor(alpha=0.9, criterion='friedman_mse', init=None,\n",
       "             learning_rate=0.1, loss='ls', max_depth=3, max_features=None,\n",
       "             max_leaf_nodes=None, min_impurity_decrease=0.0,\n",
       "             min_impurity_split=None, min_samples_leaf=1,\n",
       "             min_samples_split=2, min_weight_fraction_leaf=0.0,\n",
       "             n_estimators=100, n_iter_no_change=None, presort='auto',\n",
       "             random_state=None, subsample=1.0, tol=0.0001,\n",
       "             validation_fraction=0.1, verbose=0, warm_start=False)"
      ]
     },
     "execution_count": 5,
     "metadata": {},
     "output_type": "execute_result"
    }
   ],
   "source": [
    "model= GradientBoostingRegressor()\n",
    "model.fit(x_train, y_train)"
   ]
  },
  {
   "cell_type": "code",
   "execution_count": 6,
   "metadata": {},
   "outputs": [],
   "source": [
    "max_depth=[3,4,5]\n",
    "learning_rate=[0.98,1, 1.02]\n",
    "min_samples_leaf=[1,2]\n",
    "#min_samples_split=[0.5,1]\n",
    "alpha =[0.8,0.9, 0.95]\n",
    "grid =dict(max_depth=max_depth, learning_rate=learning_rate, min_samples_leaf=min_samples_leaf, alpha=alpha)"
   ]
  },
  {
   "cell_type": "code",
   "execution_count": 7,
   "metadata": {},
   "outputs": [
    {
     "name": "stderr",
     "output_type": "stream",
     "text": [
      "C:\\Users\\User\\Anaconda3\\lib\\site-packages\\sklearn\\model_selection\\_split.py:2053: FutureWarning: You should specify a value for 'cv' instead of relying on the default value. The default value will change from 3 to 5 in version 0.22.\n",
      "  warnings.warn(CV_WARNING, FutureWarning)\n",
      "[Parallel(n_jobs=-1)]: Using backend LokyBackend with 4 concurrent workers.\n"
     ]
    },
    {
     "name": "stdout",
     "output_type": "stream",
     "text": [
      "Fitting 3 folds for each of 54 candidates, totalling 162 fits\n"
     ]
    },
    {
     "name": "stderr",
     "output_type": "stream",
     "text": [
      "[Parallel(n_jobs=-1)]: Done  42 tasks      | elapsed:    4.7s\n",
      "[Parallel(n_jobs=-1)]: Done 162 out of 162 | elapsed:    8.2s finished\n",
      "C:\\Users\\User\\Anaconda3\\lib\\site-packages\\sklearn\\model_selection\\_search.py:841: DeprecationWarning: The default of the `iid` parameter will change from True to False in version 0.22 and will be removed in 0.24. This will change numeric results when test-set sizes are unequal.\n",
      "  DeprecationWarning)\n"
     ]
    }
   ],
   "source": [
    "grid_search = GridSearchCV(model,grid, scoring=\"neg_mean_squared_error\", n_jobs=-1, verbose=1)\n",
    "\n",
    "# 開始搜尋最佳參數\n",
    "grid_result = grid_search.fit(x_train, y_train)"
   ]
  },
  {
   "cell_type": "code",
   "execution_count": 8,
   "metadata": {},
   "outputs": [
    {
     "data": {
      "text/plain": [
       "{'alpha': 0.95, 'learning_rate': 0.98, 'max_depth': 3, 'min_samples_leaf': 2}"
      ]
     },
     "execution_count": 8,
     "metadata": {},
     "output_type": "execute_result"
    }
   ],
   "source": [
    "grid_result.best_params_"
   ]
  },
  {
   "cell_type": "code",
   "execution_count": 9,
   "metadata": {},
   "outputs": [
    {
     "data": {
      "text/plain": [
       "-22.23438332109257"
      ]
     },
     "execution_count": 9,
     "metadata": {},
     "output_type": "execute_result"
    }
   ],
   "source": [
    "grid_result.best_score_"
   ]
  },
  {
   "cell_type": "code",
   "execution_count": 10,
   "metadata": {},
   "outputs": [
    {
     "data": {
      "text/plain": [
       "24.833560568227906"
      ]
     },
     "execution_count": 10,
     "metadata": {},
     "output_type": "execute_result"
    }
   ],
   "source": [
    "model=GradientBoostingRegressor(alpha=0.8, learning_rate=1, max_depth=3, min_samples_leaf=2)\n",
    "model.fit(x_train, y_train)\n",
    "pred=model.predict(x_test)\n",
    "mse =metrics.mean_squared_error(pred, y_test)\n",
    "mse"
   ]
  },
  {
   "cell_type": "code",
   "execution_count": 11,
   "metadata": {},
   "outputs": [
    {
     "data": {
      "text/plain": [
       "array([22.6, 50. , 23. ,  8.3, 21.2, 19.9, 20.6, 18.7, 16.1, 18.6,  8.8,\n",
       "       17.2, 14.9, 10.5, 50. , 29. , 23. , 33.3, 29.4, 21. , 23.8, 19.1,\n",
       "       20.4, 29.1, 19.3, 23.1, 19.6, 19.4, 38.7, 18.7, 14.6, 20. , 20.5,\n",
       "       20.1, 23.6, 16.8,  5.6, 50. , 14.5, 13.3, 23.9, 20. , 19.8, 13.8,\n",
       "       16.5, 21.6, 20.3, 17. , 11.8, 27.5, 15.6, 23.1, 24.3, 42.8, 15.6,\n",
       "       21.7, 17.1, 17.2, 15. , 21.7, 18.6, 21. , 33.1, 31.5, 20.1, 29.8,\n",
       "       15.2, 15. , 27.5, 22.6, 20. , 21.4, 23.5, 31.2, 23.7,  7.4, 48.3,\n",
       "       24.4, 22.6, 18.3, 23.3, 17.1, 27.9, 44.8, 50. , 23. , 21.4, 10.2,\n",
       "       23.3, 23.2, 18.9, 13.4, 21.9, 24.8, 11.9, 24.3, 13.8, 24.7, 14.1,\n",
       "       18.7, 28.1, 19.8, 26.7, 21.7, 22. , 22.9, 10.4, 21.9, 20.6, 26.4,\n",
       "       41.3, 17.2, 27.1, 20.4, 16.5, 24.4,  8.4, 23. ,  9.7, 50. , 30.5,\n",
       "       12.3, 19.4, 21.2, 20.3, 18.8, 33.4])"
      ]
     },
     "execution_count": 11,
     "metadata": {},
     "output_type": "execute_result"
    }
   ],
   "source": [
    "y_test"
   ]
  },
  {
   "cell_type": "code",
   "execution_count": 12,
   "metadata": {},
   "outputs": [
    {
     "data": {
      "text/plain": [
       "array([26.783357  , 40.25060935, 20.11669055, 13.38008146, 20.76639293,\n",
       "       20.88066429, 21.37584929, 19.81808815, 29.57764387, 20.96857336,\n",
       "        4.88069448, 12.28108364, 12.00069969, 11.15298661, 53.09716579,\n",
       "       28.08755671, 18.1582699 , 33.81111169, 27.57042693, 21.63079774,\n",
       "       23.72803327, 21.18168406, 20.04924094, 27.02334212, 21.71013627,\n",
       "       26.11115829, 18.33891919, 20.01139954, 41.76671885, 21.07503371,\n",
       "       12.37235978, 22.13062364, 18.77150678, 20.66697775, 22.02584128,\n",
       "       20.70116151,  8.95463063, 17.69980929, 13.71637409,  8.94919662,\n",
       "       21.81442792, 23.61623307, 23.50571343, 11.57816261, 19.33566237,\n",
       "       21.11797064, 15.30156847, 22.18846332, 17.6488621 , 22.92307269,\n",
       "       20.19477724, 21.57100731, 20.66074971, 28.76863507, 14.09039387,\n",
       "       17.63561864, 17.47127403, 15.85135801, 11.32851524, 20.42684543,\n",
       "       23.13727359, 22.27411657, 28.27052607, 27.04582046, 19.32390296,\n",
       "       30.94923169, 20.17607688, 16.64513709, 10.24446289, 25.76518602,\n",
       "       19.39386089, 22.70763896, 23.50174286, 29.00502855, 24.79943194,\n",
       "        8.92291808, 43.77961353, 24.53498854, 24.76929895, 22.77770372,\n",
       "       27.5552855 , 19.69616645, 18.90608593, 41.61769821, 41.28090749,\n",
       "       27.21989619, 24.03756157, 12.31573182, 29.23200817, 16.37063232,\n",
       "       17.14873222, 14.78402925, 23.11273542, 28.20601601, 13.27113601,\n",
       "       22.29200356,  7.71525984, 23.92294069, 12.61541572, 17.13497507,\n",
       "       24.53832543, 19.24516102, 25.70142662, 20.72035064, 25.61384211,\n",
       "       20.51907965, 11.54509997, 21.23147604, 18.0384964 , 21.88928739,\n",
       "       33.47086528, 11.02147604, 17.0624616 , 16.43529113, 13.58205396,\n",
       "       21.51190095,  6.35497068, 20.67167339, 11.88775093, 50.04258195,\n",
       "       32.01453656, 10.033654  , 17.28748439, 20.5471811 , 20.4786438 ,\n",
       "       20.15947267, 29.73416786])"
      ]
     },
     "execution_count": 12,
     "metadata": {},
     "output_type": "execute_result"
    }
   ],
   "source": [
    "pred"
   ]
  },
  {
   "cell_type": "code",
   "execution_count": 13,
   "metadata": {},
   "outputs": [],
   "source": [
    "import matplotlib.pyplot as plt\n",
    "%matplotlib inline"
   ]
  },
  {
   "cell_type": "code",
   "execution_count": 20,
   "metadata": {},
   "outputs": [
    {
     "data": {
      "image/png": "[encoded data removed]",
      "text/plain": [
       "<Figure size 432x288 with 1 Axes>"
      ]
     },
     "metadata": {
      "needs_background": "light"
     },
     "output_type": "display_data"
    }
   ],
   "source": [
    "plt.plot(range(len(pred)),pred)\n",
    "plt.plot(range(len(pred)),y_test)\n",
    "plt.show()"
   ]
  }
 ],
 "metadata": {
  "kernelspec": {
   "display_name": "Python 3",
   "language": "python",
   "name": "python3"
  },
  "language_info": {
   "codemirror_mode": {
    "name": "ipython",
    "version": 3
   },
   "file_extension": ".py",
   "mimetype": "text/x-python",
   "name": "python",
   "nbconvert_exporter": "python",
   "pygments_lexer": "ipython3",
   "version": "3.6.7"
  }
 },
 "nbformat": 4,
 "nbformat_minor": 2
}
